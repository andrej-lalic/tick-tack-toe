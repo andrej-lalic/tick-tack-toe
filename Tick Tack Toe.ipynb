{
 "cells": [
  {
   "cell_type": "code",
   "execution_count": null,
   "id": "4dae50c2",
   "metadata": {},
   "outputs": [],
   "source": [
    "import random\n",
    "\n",
    "board = [*range(0,10)]\n",
    "game_on = True\n",
    "playing = None\n",
    "turn = 0"
   ]
  },
  {
   "cell_type": "code",
   "execution_count": null,
   "id": "5c95eb9d",
   "metadata": {},
   "outputs": [],
   "source": [
    "def display_board(b):\n",
    "    \n",
    "    line = \"-\"*11\n",
    "    \n",
    "    print(\"\\n\")\n",
    "    print(f' {b[1]} | {b[2]} | {b[3]} ')\n",
    "    print(line)\n",
    "    print(f' {b[4]} | {b[5]} | {b[6]} ')\n",
    "    print(line)\n",
    "    print(f' {b[7]} | {b[8]} | {b[9]} ')\n"
   ]
  },
  {
   "cell_type": "code",
   "execution_count": null,
   "id": "ca1c6f1a",
   "metadata": {},
   "outputs": [],
   "source": [
    "def choose_mark():\n",
    "\n",
    "    choice = True\n",
    "    \n",
    "    while choice == True:\n",
    "    \n",
    "        mark = input(\"\\nChoose your mark: \").upper()\n",
    "\n",
    "        if mark == \"X\":\n",
    "            \n",
    "            choice = False\n",
    "            return [\"X\", \"O\"]\n",
    "\n",
    "        elif mark == \"O\":\n",
    "            \n",
    "            choice = False\n",
    "            return [\"O\", \"X\"]\n",
    "\n",
    "        else:\n",
    "            \n",
    "            print(\"\\nChoose X or O\")\n",
    "            continue\n"
   ]
  },
  {
   "cell_type": "code",
   "execution_count": null,
   "id": "d1d19c25",
   "metadata": {},
   "outputs": [],
   "source": [
    "def place_mark(board, pos, mark):\n",
    "    \n",
    "    board[pos] = mark\n"
   ]
  },
  {
   "cell_type": "code",
   "execution_count": null,
   "id": "874ae931",
   "metadata": {},
   "outputs": [],
   "source": [
    "def check_for_win(b, m):\n",
    "    \n",
    "    global game_on\n",
    "    \n",
    "    if (b[1]==b[2]==b[3]==m) or (b[4]==b[5]==b[6]==m) or (b[7]==b[8]==b[9]==m) or (b[1]==b[4]==b[7]==m) or (b[2]==b[5]==b[8]==m) or (b[3]==b[6]==b[9]==m) or (b[1]==b[5]==b[9]==m) or (b[3]==b[5]==b[7]==m):\n",
    "        \n",
    "        game_on = False\n",
    "        print(f\"\\nPlayer {m} wins!\")\n",
    "    \n",
    "    elif turn == 9:\n",
    "        game_on = False\n",
    "        print(\"\\nIt's a draw!\")\n"
   ]
  },
  {
   "cell_type": "code",
   "execution_count": null,
   "id": "d456ba5e",
   "metadata": {},
   "outputs": [],
   "source": [
    "def player_turn(board, mark):\n",
    "        \n",
    "    try:\n",
    "        \n",
    "        pos = int(input(f\"\\nPlayer {mark}, please choose where'd you like to place your mark: \"))\n",
    "        place_mark(board, pos, mark)\n",
    "        display_board(board)\n",
    "        check_for_win(board, mark)\n",
    "    \n",
    "    except:\n",
    "        \n",
    "        player_turn(board, mark)\n"
   ]
  },
  {
   "cell_type": "code",
   "execution_count": null,
   "id": "2aa55e2e",
   "metadata": {},
   "outputs": [],
   "source": [
    "p1mark, p2mark = choose_mark()\n",
    "\n",
    "first_player = random.choice([p1mark, p2mark])\n",
    "\n",
    "if first_player == p1mark:\n",
    "    playing = True\n",
    "    print(f\"\\nPlayer {p1mark}, you go first!\\n\")\n",
    "\n",
    "else:\n",
    "    playing = False\n",
    "    print(f\"\\nPlayer {p2mark}, you go first!\\n\")\n",
    "\n",
    "display_board(board)\n",
    "\n",
    "while game_on == True:\n",
    "\n",
    "    if playing == True:\n",
    "        \n",
    "        player_turn(board, p1mark)\n",
    "        turn += 1\n",
    "        playing = False\n",
    "\n",
    "    else:\n",
    "        \n",
    "        player_turn(board, p2mark)\n",
    "        turn += 1\n",
    "        playing = True\n"
   ]
  }
 ],
 "metadata": {
  "kernelspec": {
   "display_name": "Python 3 (ipykernel)",
   "language": "python",
   "name": "python3"
  },
  "language_info": {
   "codemirror_mode": {
    "name": "ipython",
    "version": 3
   },
   "file_extension": ".py",
   "mimetype": "text/x-python",
   "name": "python",
   "nbconvert_exporter": "python",
   "pygments_lexer": "ipython3",
   "version": "3.9.12"
  }
 },
 "nbformat": 4,
 "nbformat_minor": 5
}
