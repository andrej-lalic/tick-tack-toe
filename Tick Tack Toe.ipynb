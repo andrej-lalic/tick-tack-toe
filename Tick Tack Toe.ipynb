{
 "cells": [
  {
   "cell_type": "code",
   "execution_count": 11,
   "id": "4dae50c2",
   "metadata": {},
   "outputs": [],
   "source": [
    "import random\n",
    "\n",
    "board = [*range(0,10)]\n",
    "game_on = True\n",
    "playing = None\n",
    "turn = 0"
   ]
  },
  {
   "cell_type": "code",
   "execution_count": 2,
   "id": "5c95eb9d",
   "metadata": {},
   "outputs": [],
   "source": [
    "def display_board(b):\n",
    "    \n",
    "    line = \"-\"*11\n",
    "    \n",
    "    print(\"\\n\")\n",
    "    print(f' {b[1]} | {b[2]} | {b[3]} ')\n",
    "    print(line)\n",
    "    print(f' {b[4]} | {b[5]} | {b[6]} ')\n",
    "    print(line)\n",
    "    print(f' {b[7]} | {b[8]} | {b[9]} ')\n"
   ]
  },
  {
   "cell_type": "code",
   "execution_count": 3,
   "id": "ca1c6f1a",
   "metadata": {},
   "outputs": [],
   "source": [
    "def choose_mark():\n",
    "\n",
    "    choice = True\n",
    "    \n",
    "    while choice == True:\n",
    "    \n",
    "        mark = input(\"\\nChoose your mark: \").upper()\n",
    "\n",
    "        if mark == \"X\":\n",
    "            \n",
    "            choice = False\n",
    "            return [\"X\", \"O\"]\n",
    "\n",
    "        elif mark == \"O\":\n",
    "            \n",
    "            choice = False\n",
    "            return [\"O\", \"X\"]\n",
    "\n",
    "        else:\n",
    "            \n",
    "            print(\"\\nChoose X or O\")\n",
    "            continue\n"
   ]
  },
  {
   "cell_type": "code",
   "execution_count": 4,
   "id": "d1d19c25",
   "metadata": {},
   "outputs": [],
   "source": [
    "def place_mark(board, pos, mark):\n",
    "    \n",
    "    board[pos] = mark\n"
   ]
  },
  {
   "cell_type": "code",
   "execution_count": 13,
   "id": "874ae931",
   "metadata": {},
   "outputs": [],
   "source": [
    "def check_for_win(b, m):\n",
    "    \n",
    "    global game_on\n",
    "    \n",
    "    if (b[1]==b[2]==b[3]==m) or (b[4]==b[5]==b[6]==m) or (b[7]==b[8]==b[9]==m) or (b[1]==b[4]==b[7]==m) or (b[2]==b[5]==b[8]==m) or (b[3]==b[6]==b[9]==m) or (b[1]==b[5]==b[9]==m) or (b[3]==b[5]==b[7]==m):\n",
    "        \n",
    "        game_on = False\n",
    "        print(f\"\\nPlayer {m} wins!\")\n",
    "    \n",
    "    elif turn == 9:\n",
    "        game_on = False\n",
    "        print(\"\\nIt's a draw!\")\n"
   ]
  },
  {
   "cell_type": "code",
   "execution_count": 8,
   "id": "d456ba5e",
   "metadata": {},
   "outputs": [],
   "source": [
    "def player_turn(board, mark):\n",
    "        \n",
    "    try:\n",
    "        \n",
    "        pos = int(input(f\"\\nPlayer {mark}, please choose where'd you like to place your mark: \"))\n",
    "        place_mark(board, pos, mark)\n",
    "        display_board(board)\n",
    "        check_for_win(board, mark)\n",
    "    \n",
    "    except:\n",
    "        \n",
    "        player_turn(board, mark)\n"
   ]
  },
  {
   "cell_type": "code",
   "execution_count": 9,
   "id": "2aa55e2e",
   "metadata": {},
   "outputs": [
    {
     "ename": "KeyboardInterrupt",
     "evalue": "Interrupted by user",
     "output_type": "error",
     "traceback": [
      "\u001b[1;31m---------------------------------------------------------------------------\u001b[0m",
      "\u001b[1;31mKeyboardInterrupt\u001b[0m                         Traceback (most recent call last)",
      "Input \u001b[1;32mIn [9]\u001b[0m, in \u001b[0;36m<cell line: 1>\u001b[1;34m()\u001b[0m\n\u001b[1;32m----> 1\u001b[0m p1mark, p2mark \u001b[38;5;241m=\u001b[39m \u001b[43mchoose_mark\u001b[49m\u001b[43m(\u001b[49m\u001b[43m)\u001b[49m\n\u001b[0;32m      3\u001b[0m first_player \u001b[38;5;241m=\u001b[39m random\u001b[38;5;241m.\u001b[39mchoice([p1mark, p2mark])\n\u001b[0;32m      5\u001b[0m \u001b[38;5;28;01mif\u001b[39;00m first_player \u001b[38;5;241m==\u001b[39m p1mark:\n",
      "Input \u001b[1;32mIn [3]\u001b[0m, in \u001b[0;36mchoose_mark\u001b[1;34m()\u001b[0m\n\u001b[0;32m      3\u001b[0m choice \u001b[38;5;241m=\u001b[39m \u001b[38;5;28;01mTrue\u001b[39;00m\n\u001b[0;32m      5\u001b[0m \u001b[38;5;28;01mwhile\u001b[39;00m choice \u001b[38;5;241m==\u001b[39m \u001b[38;5;28;01mTrue\u001b[39;00m:\n\u001b[1;32m----> 7\u001b[0m     mark \u001b[38;5;241m=\u001b[39m \u001b[38;5;28;43minput\u001b[39;49m\u001b[43m(\u001b[49m\u001b[38;5;124;43m\"\u001b[39;49m\u001b[38;5;130;43;01m\\n\u001b[39;49;00m\u001b[38;5;124;43mChoose your mark: \u001b[39;49m\u001b[38;5;124;43m\"\u001b[39;49m\u001b[43m)\u001b[49m\u001b[38;5;241m.\u001b[39mupper()\n\u001b[0;32m      9\u001b[0m     \u001b[38;5;28;01mif\u001b[39;00m mark \u001b[38;5;241m==\u001b[39m \u001b[38;5;124m\"\u001b[39m\u001b[38;5;124mX\u001b[39m\u001b[38;5;124m\"\u001b[39m:\n\u001b[0;32m     11\u001b[0m         choice \u001b[38;5;241m=\u001b[39m \u001b[38;5;28;01mFalse\u001b[39;00m\n",
      "File \u001b[1;32m~\\anaconda3\\lib\\site-packages\\ipykernel\\kernelbase.py:1075\u001b[0m, in \u001b[0;36mKernel.raw_input\u001b[1;34m(self, prompt)\u001b[0m\n\u001b[0;32m   1071\u001b[0m \u001b[38;5;28;01mif\u001b[39;00m \u001b[38;5;129;01mnot\u001b[39;00m \u001b[38;5;28mself\u001b[39m\u001b[38;5;241m.\u001b[39m_allow_stdin:\n\u001b[0;32m   1072\u001b[0m     \u001b[38;5;28;01mraise\u001b[39;00m StdinNotImplementedError(\n\u001b[0;32m   1073\u001b[0m         \u001b[38;5;124m\"\u001b[39m\u001b[38;5;124mraw_input was called, but this frontend does not support input requests.\u001b[39m\u001b[38;5;124m\"\u001b[39m\n\u001b[0;32m   1074\u001b[0m     )\n\u001b[1;32m-> 1075\u001b[0m \u001b[38;5;28;01mreturn\u001b[39;00m \u001b[38;5;28;43mself\u001b[39;49m\u001b[38;5;241;43m.\u001b[39;49m\u001b[43m_input_request\u001b[49m\u001b[43m(\u001b[49m\n\u001b[0;32m   1076\u001b[0m \u001b[43m    \u001b[49m\u001b[38;5;28;43mstr\u001b[39;49m\u001b[43m(\u001b[49m\u001b[43mprompt\u001b[49m\u001b[43m)\u001b[49m\u001b[43m,\u001b[49m\n\u001b[0;32m   1077\u001b[0m \u001b[43m    \u001b[49m\u001b[38;5;28;43mself\u001b[39;49m\u001b[38;5;241;43m.\u001b[39;49m\u001b[43m_parent_ident\u001b[49m\u001b[43m[\u001b[49m\u001b[38;5;124;43m\"\u001b[39;49m\u001b[38;5;124;43mshell\u001b[39;49m\u001b[38;5;124;43m\"\u001b[39;49m\u001b[43m]\u001b[49m\u001b[43m,\u001b[49m\n\u001b[0;32m   1078\u001b[0m \u001b[43m    \u001b[49m\u001b[38;5;28;43mself\u001b[39;49m\u001b[38;5;241;43m.\u001b[39;49m\u001b[43mget_parent\u001b[49m\u001b[43m(\u001b[49m\u001b[38;5;124;43m\"\u001b[39;49m\u001b[38;5;124;43mshell\u001b[39;49m\u001b[38;5;124;43m\"\u001b[39;49m\u001b[43m)\u001b[49m\u001b[43m,\u001b[49m\n\u001b[0;32m   1079\u001b[0m \u001b[43m    \u001b[49m\u001b[43mpassword\u001b[49m\u001b[38;5;241;43m=\u001b[39;49m\u001b[38;5;28;43;01mFalse\u001b[39;49;00m\u001b[43m,\u001b[49m\n\u001b[0;32m   1080\u001b[0m \u001b[43m\u001b[49m\u001b[43m)\u001b[49m\n",
      "File \u001b[1;32m~\\anaconda3\\lib\\site-packages\\ipykernel\\kernelbase.py:1120\u001b[0m, in \u001b[0;36mKernel._input_request\u001b[1;34m(self, prompt, ident, parent, password)\u001b[0m\n\u001b[0;32m   1117\u001b[0m             \u001b[38;5;28;01mbreak\u001b[39;00m\n\u001b[0;32m   1118\u001b[0m \u001b[38;5;28;01mexcept\u001b[39;00m \u001b[38;5;167;01mKeyboardInterrupt\u001b[39;00m:\n\u001b[0;32m   1119\u001b[0m     \u001b[38;5;66;03m# re-raise KeyboardInterrupt, to truncate traceback\u001b[39;00m\n\u001b[1;32m-> 1120\u001b[0m     \u001b[38;5;28;01mraise\u001b[39;00m \u001b[38;5;167;01mKeyboardInterrupt\u001b[39;00m(\u001b[38;5;124m\"\u001b[39m\u001b[38;5;124mInterrupted by user\u001b[39m\u001b[38;5;124m\"\u001b[39m) \u001b[38;5;28;01mfrom\u001b[39;00m \u001b[38;5;28mNone\u001b[39m\n\u001b[0;32m   1121\u001b[0m \u001b[38;5;28;01mexcept\u001b[39;00m \u001b[38;5;167;01mException\u001b[39;00m:\n\u001b[0;32m   1122\u001b[0m     \u001b[38;5;28mself\u001b[39m\u001b[38;5;241m.\u001b[39mlog\u001b[38;5;241m.\u001b[39mwarning(\u001b[38;5;124m\"\u001b[39m\u001b[38;5;124mInvalid Message:\u001b[39m\u001b[38;5;124m\"\u001b[39m, exc_info\u001b[38;5;241m=\u001b[39m\u001b[38;5;28;01mTrue\u001b[39;00m)\n",
      "\u001b[1;31mKeyboardInterrupt\u001b[0m: Interrupted by user"
     ]
    }
   ],
   "source": [
    "p1mark, p2mark = choose_mark()\n",
    "\n",
    "first_player = random.choice([p1mark, p2mark])\n",
    "\n",
    "if first_player == p1mark:\n",
    "    playing = True\n",
    "    print(f\"\\nPlayer {p1mark}, you go first!\\n\")\n",
    "\n",
    "else:\n",
    "    playing = False\n",
    "    print(f\"\\nPlayer {p2mark}, you go first!\\n\")\n",
    "\n",
    "display_board(board)\n",
    "\n",
    "while game_on == True:\n",
    "\n",
    "    if playing == True:\n",
    "        \n",
    "        player_turn(board, p1mark)\n",
    "        turn += 1\n",
    "        playing = False\n",
    "\n",
    "    else:\n",
    "        \n",
    "        player_turn(board, p2mark)\n",
    "        turn += 1\n",
    "        playing = True\n"
   ]
  }
 ],
 "metadata": {
  "kernelspec": {
   "display_name": "Python 3 (ipykernel)",
   "language": "python",
   "name": "python3"
  },
  "language_info": {
   "codemirror_mode": {
    "name": "ipython",
    "version": 3
   },
   "file_extension": ".py",
   "mimetype": "text/x-python",
   "name": "python",
   "nbconvert_exporter": "python",
   "pygments_lexer": "ipython3",
   "version": "3.9.12"
  }
 },
 "nbformat": 4,
 "nbformat_minor": 5
}
